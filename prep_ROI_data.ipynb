{
 "cells": [
  {
   "cell_type": "code",
   "execution_count": 1,
   "id": "659a7233",
   "metadata": {},
   "outputs": [],
   "source": [
    "import numpy as np\n",
    "import pandas as pd\n",
    "import pickle\n",
    "import os"
   ]
  },
  {
   "cell_type": "code",
   "execution_count": 2,
   "id": "17ddf7d1",
   "metadata": {},
   "outputs": [],
   "source": [
    "import os\n",
    "\n",
    "def find_roi_files(root_dir):\n",
    "    string_list = ['.pkl', 'roi']\n",
    "    \n",
    "    matching_files = []\n",
    "    for root, _, files in os.walk(root_dir):\n",
    "        for filename in files:\n",
    "            if all(string in filename.lower() for string in string_list):\n",
    "                matching_files.append(os.path.join(root, filename))\n",
    "    return matching_files"
   ]
  },
  {
   "cell_type": "code",
   "execution_count": 3,
   "id": "4a184121",
   "metadata": {},
   "outputs": [],
   "source": [
    "# codes for species with information and health\\growth-stage\\etc..\n",
    "plant_codes = {\n",
    "    'Ammo_bre': ['Ammophila', 'breviligulata', 'American Beachgrass', 'grass', 'https://en.wikipedia.org/wiki/Ammophila_breviligulata'],\n",
    "    'Chas_lat': ['Chasmanthium', 'latifolium', 'River Oats', 'grass', 'https://en.wikipedia.org/wiki/Chasmanthium_latifolium'],\n",
    "    'Pani_ama': ['Panicum', 'amarum', 'Coastal Panic Grass', 'grass', 'https://en.wikipedia.org/wiki/Panicum_amarum'],\n",
    "    'Pani_vir': ['Panicum', 'virgatum', 'Switch Grass', 'grass', 'https://en.wikipedia.org/wiki/Panicum_virgatum'],\n",
    "    'Soli_sem': ['Solidago', 'sempervirens', 'Seaside Goldenrod', 'succulent', 'https://en.wikipedia.org/wiki/Chasmanthium_latifolium'],\n",
    "    'Robi_his': ['Robinia', 'hispida', 'Bristly locust', 'shrub', 'https://en.wikipedia.org/wiki/Robinia_hispida'],\n",
    "    'More_pen': ['Morella', 'pennsylvanica', 'Bristly locust', 'shrub', 'https://en.wikipedia.org/wiki/Myrica_pensylvanica'],    \n",
    "    'Rosa_rug': ['Rosa', 'rugosa', 'Sandy Beach Rose', 'shrub', 'https://en.wikipedia.org/wiki/Rosa_rugosa'],\n",
    "    'Cham_fas': ['Chamaecrista', 'fasciculata', 'Partridge Pea', 'legume', 'https://en.wikipedia.org/wiki/Chamaecrista_fasciculata'],\n",
    "    'Soli_rug': ['Solidago', 'rugosa', 'Wrinkleleaf goldenrod', 'shrub', 'https://en.wikipedia.org/wiki/Solidago_rugosa'],\n",
    "    'Bacc_hal': ['Baccharis', 'halimifolia', 'Groundseltree', 'shrub', 'https://en.wikipedia.org/wiki/Baccharis_halimifolia'],\n",
    "    'Iva_fru_': ['Iva', 'frutescens', 'Jesuits Bark ', 'shrub', 'https://en.wikipedia.org/wiki/Iva_frutescens'],\n",
    "    'Ilex_vom': ['Ilex', 'vomitoria', 'Yaupon Holly', 'evergreen shrub', 'https://en.wikipedia.org/wiki/Ilex_vomitoria']\n",
    "}  \n",
    "age_codes = {  \n",
    "    'PE': ['Post Germination Emergence', 'PE'],\n",
    "\t#'RE': ['Re-emergence', 'RE'],\n",
    "    #'RE': ['Year 1 growth', '1G'],\n",
    "\t#'E': ['Emergence (from seed)', 'E'],\n",
    "    'E': ['Post Germination Emergence', 'PE'],\n",
    "\t#'D': ['Dormant', 'D'],\n",
    "\t'1G': ['Year 1 growth', '1G'],\n",
    "    '2G': ['Year 2 growth', '2G'],\n",
    "\t#'1F': ['Year 1 Flowering', '1F'],\n",
    "    'J': ['Juvenile', 'J'],\n",
    "\t'M': ['Mature', 'M']\n",
    "}\n",
    "principal_part_codes = {  \n",
    "    'MX': ['Mix', 'MX'],\n",
    "    #'S': ['Seed', 'SE'],\n",
    "\t#'SA': ['Shoot Apex', 'SA'],\n",
    "    'SA': ['Internode Stem', 'ST'],\n",
    "\t'L': ['Leaf/Blade', 'L'],\n",
    "\t#'IS': ['Internode Stem', 'IS'],\n",
    "    'ST': ['Internode Stem', 'ST'],\n",
    "    'SP': ['Sprout', 'SP'],\n",
    "\t#'CS': ['Colar Sprout', 'CS'],\n",
    "    'CS': ['Sprout', 'SP'],\n",
    "\t#'RS': ['Root Sprout', 'RS'],\n",
    "    'RS': ['Sprout', 'SP'],\n",
    "\t'LG': ['Lignin', 'LG'],\n",
    "\t'FL': ['Flower', 'FL'],\n",
    "    #'B': ['Blade', 'B'],\n",
    "\t'B': ['Leaf/Blade', 'L'],\n",
    "    'FR': ['Fruit', 'FR'],\n",
    "\t#'S': ['Seed', 'SE'], #moved above because 'S' is in other codes; this is an old code\n",
    "    'SE': ['Seed', 'SE'],\n",
    "\t#'St': ['Stalk', 'St']\n",
    "}\n",
    "health_codes = {\n",
    "    'MH': ['Healthy/Unhealthy Mix', 'MH'],\n",
    "\t'DS': ['Drought Stress', 'DS'],\n",
    "\t'SS': ['Salt Stress (soak)', 'SS'],\n",
    "    'SY': ['Salt Stress (spray)', 'SY'],\n",
    "\t'S': ['Stressed', 'S'],\n",
    "    'LLRZ': ['LLRZ Lab Stress', 'LLRZ'],\n",
    "\t#'D': ['Dormant', 'D'],\n",
    "    'R': ['Rust', 'R'],\n",
    "    'H': ['Healthy', 'H']\n",
    "}\n",
    "\n",
    "lifecycle_codes = { \n",
    "\t'D': ['Dormant', 'D'],\n",
    "    'RE': ['Re-emergence', 'RE'],\n",
    "    'FLG': ['Flowering', 'FLG'],\n",
    "    'FRG': ['Fruiting', 'FRG'],\n",
    "    \"FFG\": ['Fruiting and Flowering', 'FFG'],\n",
    "    'N': ['Neither', 'N']\n",
    "}\n",
    "\n",
    "# data lists\n",
    "\n",
    "d_spectra = []\n",
    "d_plant = []\n",
    "d_part = []\n",
    "d_health = []\n",
    "d_age = []\n",
    "d_lifecycle = []\n",
    "\n",
    "yd_all_dict = {\n",
    "    'plant': d_plant,\n",
    "    'age': d_age,\n",
    "    'part': d_part,\n",
    "    'health': d_health,\n",
    "    'lifecycle': d_lifecycle\n",
    "}\n",
    "\n",
    "code_category_dict = {\n",
    "    'plant': plant_codes,\n",
    "    'age': age_codes,\n",
    "    'part': principal_part_codes,\n",
    "    'health': health_codes,\n",
    "    'lifecycle': lifecycle_codes\n",
    "}"
   ]
  },
  {
   "cell_type": "code",
   "execution_count": 4,
   "id": "4c657e61",
   "metadata": {},
   "outputs": [
    {
     "name": "stdout",
     "output_type": "stream",
     "text": [
      "Number of ROI files found: 1\n",
      "Number of ROIs found in data/pkl/rois/ROIs_4-25_Ilex_vom.pkl: 2\n"
     ]
    }
   ],
   "source": [
    "roi_files = find_roi_files('data/pkl/rois/')\n",
    "\n",
    "print(f\"Number of ROI files found: {len(roi_files)}\")\n",
    "\n",
    "for roi_filename in roi_files:\n",
    "   # Unpickling the dictionary\n",
    "    with open(roi_filename, 'rb') as f:\n",
    "        roiData = pickle.load(f)\n",
    "        roi_df = roiData.df # a DataFrame holding all the data for the ROI\n",
    "\n",
    "    spectra = roi_df.to_numpy()[:,4:]\n",
    "    spectra = spectra.astype(np.float32)\n",
    "    spectra_names = roi_df['Name'].to_numpy()\n",
    "\n",
    "    roi_names = roiData.names # the names of the ROIs\n",
    "\n",
    "    print(f\"Number of ROIs found in {roi_filename}: {len(roi_names)}\")\n",
    "\n",
    "    for name in roi_names:\n",
    "        class_spectra = spectra[spectra_names==name]\n",
    "\n",
    "        if name[-1] != '_':\n",
    "            name = name + '_'\n",
    "\n",
    "        #print(name)\n",
    "\n",
    "        # parse name for metadata\n",
    "        class_data_dict = {}          \n",
    "        \n",
    "        for cat, codes in code_category_dict.items():\n",
    "            class_data_dict[cat] = '-1'\n",
    "            for key, value in codes.items():\n",
    "                if cat == 'plant':\n",
    "                    if name[:8].lower()==key.lower():\n",
    "                        class_data_dict[cat] = value[0] + '_' + value[1]\n",
    "                else:\n",
    "                    if '_'+key+'_' in name:\n",
    "                        #print(f'here: {name}')\n",
    "                        class_data_dict[cat] = value[1]\n",
    "                        #print(key, class_data_dict[cat])\n",
    "                        #print(class_data_dict)\n",
    "\n",
    "        #print(class_data_dict)\n",
    "\n",
    "        # for each spectrum in class_spectra, append to each list\n",
    "        for spectrum in class_spectra:\n",
    "            d_spectra.append(spectrum)\n",
    "            \n",
    "            for key in yd_all_dict:\n",
    "                #print(key)\n",
    "                #print(len(yd_all_dict[key]))\n",
    "                #print(yd_all_dict[key])\n",
    "                yd_all_dict[key].append(class_data_dict[key])\n",
    "                #print(len(yd_all_dict[key]))\n"
   ]
  },
  {
   "cell_type": "code",
   "execution_count": 5,
   "id": "7acc3e14",
   "metadata": {},
   "outputs": [
    {
     "name": "stdout",
     "output_type": "stream",
     "text": [
      "2506\n",
      "2506\n",
      "2506\n",
      "2506\n",
      "2506\n",
      "2506\n"
     ]
    }
   ],
   "source": [
    "print(len(d_spectra))\n",
    "\n",
    "for key in yd_all_dict:\n",
    "    print(len(yd_all_dict[key]))"
   ]
  },
  {
   "cell_type": "code",
   "execution_count": 6,
   "id": "f1534da5",
   "metadata": {},
   "outputs": [
    {
     "name": "stdout",
     "output_type": "stream",
     "text": [
      "['Ilex_vom_1G-FL', 'Ilex_vom_J']\n"
     ]
    }
   ],
   "source": [
    "print(roi_names)"
   ]
  },
  {
   "cell_type": "code",
   "execution_count": 7,
   "id": "eabb2873",
   "metadata": {},
   "outputs": [
    {
     "name": "stdout",
     "output_type": "stream",
     "text": [
      "[ 0.14013967  0.12249807  0.1625661   0.11155654 -0.00356607  0.11247256\n",
      "  0.03450296  0.04424099  0.05918107  0.03874531  0.07475629  0.04366582\n",
      "  0.06613352  0.04818413  0.07135563  0.0797596   0.04574396  0.06271511\n",
      "  0.0771033   0.02558763  0.04790235  0.05029211  0.07983825  0.05385766\n",
      "  0.04666815  0.05226171  0.04608772  0.06354913  0.03709427  0.0617037\n",
      "  0.05559583  0.04997871  0.03684599  0.03880306  0.04616464  0.06713266\n",
      "  0.04615017  0.05755078  0.05911346  0.06523842  0.05877242  0.05359749\n",
      "  0.05121133  0.05942667  0.04706436  0.05448588  0.04399405  0.06656574\n",
      "  0.05501363  0.06873445  0.06475929  0.0757568   0.07243631  0.08855163\n",
      "  0.09842151  0.1009552   0.1113176   0.11622603  0.12783916  0.12490982\n",
      "  0.13170357  0.1393295   0.14042693  0.146815    0.15629038  0.1544635\n",
      "  0.15365875  0.15495467  0.15107535  0.15176056  0.15092959  0.17237388\n",
      "  0.14900811  0.15034378  0.15691485  0.14706612  0.14113092  0.13542119\n",
      "  0.13954699  0.12394089  0.11552539  0.11308115  0.11821744  0.1111315\n",
      "  0.10575649  0.11144546  0.11484122  0.09932609  0.09345661  0.10437735\n",
      "  0.09735407  0.09513328  0.10043206  0.10024938  0.09792413  0.09849016\n",
      "  0.09952734  0.09141797  0.094739    0.07781615  0.08592796  0.09235486\n",
      "  0.07893404  0.08742603  0.08265622  0.08289146  0.08310364  0.08326915\n",
      "  0.07675968  0.07515313  0.07774906  0.07194969  0.07184132  0.067876\n",
      "  0.06746792  0.05970474  0.06309395  0.05756018  0.05955379  0.06153838\n",
      "  0.05901577  0.05552003  0.05717599  0.04849999  0.05396047  0.05418614\n",
      "  0.05461236  0.05761296  0.05645382  0.066363    0.06096995  0.06667116\n",
      "  0.08254362  0.08831294  0.11028185  0.12490732  0.14584716  0.17019874\n",
      "  0.19366272  0.2211897   0.24839215  0.2775897   0.31196043  0.3348155\n",
      "  0.36889982  0.38175532  0.4168426   0.44199923  0.46226162  0.486205\n",
      "  0.51048774  0.5388298   0.55491483  0.5763652   0.5958373   0.5879074\n",
      "  0.6125121   0.63022476  0.62653875  0.6395881   0.64456624  0.64718175\n",
      "  0.64727455  0.6444065   0.65616524  0.65258116  0.653835    0.64479494\n",
      "  0.65690386  0.6607211   0.660975    0.67127407  0.64418     0.6672045\n",
      "  0.6647487   0.65334386  0.6604983   0.6553315   0.65859395  0.68360734\n",
      "  0.6514171   0.66766477  0.65809554  0.6518677   0.66698253  0.6609534\n",
      "  0.64883006  0.6595154   0.6634495   0.6573254   0.6683407   0.6805366\n",
      "  0.68149376  0.6765016   0.6763024   0.6830014   0.661366    0.6710868\n",
      "  0.67015374  0.66989815  0.6755649   0.6630804   0.6814024   0.6756363\n",
      "  0.6828115   0.6910848   0.6706373   0.64953214  0.6716878   0.66806453\n",
      "  0.6640956   0.66161376  0.6976032   0.67247546  0.6928654   0.66920364\n",
      "  0.69719917  0.6840626   0.68027073  0.6628137   0.67995226  0.6789985\n",
      "  0.680272    0.6707941   0.66888225  0.6725917   0.6720103   0.68261975\n",
      "  0.6658004   0.6720526   0.69293433  0.6972387   0.69282514  0.6600386\n",
      "  0.6949003   0.67374027  0.701809    0.6655259   0.69812846  0.67746556\n",
      "  0.6784395   0.65620834  0.6794629   0.6998762   0.68292934  0.6718756\n",
      "  0.6846495   0.71094584  0.6745505   0.70174724  0.694139    0.62883854\n",
      "  0.68851256  0.68232113  0.67831     0.65427816  0.6712589   0.68847716\n",
      "  0.6784141   0.6598123   0.70016456  0.62065774  0.62714374  0.6508602\n",
      "  0.62909144  0.6743317   0.66336095  0.6825581   0.6353912   0.72867036\n",
      "  0.6380932   0.70145047]\n",
      "plant Ilex_vomitoria\n",
      "age J\n",
      "part -1\n",
      "health -1\n",
      "lifecycle -1\n"
     ]
    }
   ],
   "source": [
    "#print(spectra_names[2505])\n",
    "print(d_spectra[2505])\n",
    "for key in yd_all_dict:\n",
    "    print(key, yd_all_dict[key][2505])"
   ]
  },
  {
   "cell_type": "code",
   "execution_count": 8,
   "id": "91c308e6",
   "metadata": {},
   "outputs": [
    {
     "name": "stdout",
     "output_type": "stream",
     "text": [
      "(2506, 272)\n",
      "plant (2506,)\n",
      "age (2506,)\n",
      "part (2506,)\n",
      "health (2506,)\n",
      "lifecycle (2506,)\n"
     ]
    }
   ],
   "source": [
    "d_spectra = np.asarray(d_spectra)\n",
    "print(d_spectra.shape)\n",
    "\n",
    "for key in yd_all_dict:\n",
    "    yd_all_dict[key] = np.asarray(yd_all_dict[key])\n",
    "    print(key, yd_all_dict[key].shape)\n"
   ]
  }
 ],
 "metadata": {
  "kernelspec": {
   "display_name": "Python 3",
   "language": "python",
   "name": "python3"
  },
  "language_info": {
   "codemirror_mode": {
    "name": "ipython",
    "version": 3
   },
   "file_extension": ".py",
   "mimetype": "text/x-python",
   "name": "python",
   "nbconvert_exporter": "python",
   "pygments_lexer": "ipython3",
   "version": "3.12.3"
  }
 },
 "nbformat": 4,
 "nbformat_minor": 5
}
