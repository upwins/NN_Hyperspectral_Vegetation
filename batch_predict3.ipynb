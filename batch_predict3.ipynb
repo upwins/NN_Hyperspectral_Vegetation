{
 "cells": [
  {
   "cell_type": "code",
   "execution_count": null,
   "id": "25a5e390",
   "metadata": {},
   "outputs": [],
   "source": [
    "import os\n",
    "os.environ['TF_CPP_MIN_LOG_LEVEL'] = '2'  # Suppress TensorFlow INFO and WARNING messages\n",
    "\n",
    "import numpy as np\n",
    "import shelve\n",
    "import pickle\n",
    "\n",
    "import sys\n",
    "sys.path.append('util/')\n",
    "import importlib\n",
    "\n",
    "import batch_predictions_processor3 as processor\n",
    "\n",
    "import tensorflow as tf\n",
    "#from tensorflow import keras\n",
    "#from tensorflow.keras import layers\n",
    "\n",
    "from sklearn.preprocessing import StandardScaler\n",
    "import pandas as pd\n",
    "\n",
    "print(f\"Using TensorFlow version: {tf.__version__}\")\n",
    "# Optional: Configure GPU memory growth if needed\n",
    "gpus = tf.config.list_physical_devices('GPU')\n",
    "if gpus:\n",
    "    try:\n",
    "        for gpu in gpus:\n",
    "            tf.config.experimental.set_memory_growth(gpu, True)\n",
    "        print(f\"Configured memory growth for {len(gpus)} GPU(s)\")\n",
    "    except RuntimeError as e:\n",
    "        print(e)"
   ]
  },
  {
   "cell_type": "code",
   "execution_count": null,
   "id": "6e97b1ac",
   "metadata": {},
   "outputs": [],
   "source": [
    "model_path = \"data/checkpoints/model_10-17-25_0.keras\"\n",
    "\n",
    "scaler_filename = \"data/pkl/scaler_10-17-25_0.pkl\"\n",
    "with open(scaler_filename, 'rb') as file:\n",
    "    loaded_scaler = pickle.load(file)\n",
    "\n",
    "model = tf.keras.models.load_model(model_path)"
   ]
  },
  {
   "cell_type": "code",
   "execution_count": null,
   "id": "1da7ce2b",
   "metadata": {},
   "outputs": [],
   "source": [
    "label_maps = {}\n",
    "\n",
    "with shelve.open('data/shelve/label_maps_store') as s:\n",
    "    label_maps = s['label_maps']\n",
    "\n",
    "TASK_NAMES = ['plant', 'age', 'part', 'health', 'lifecycle']"
   ]
  },
  {
   "cell_type": "code",
   "execution_count": null,
   "id": "4ee94d5f",
   "metadata": {},
   "outputs": [],
   "source": [
    "INPUT_DIRECTORY = 'data/Greenhead_aug/temp'\n",
    "OUTPUT_DIRECTORY = 'output/temp6'\n",
    "INPUT_FILE_PATH = 'data/morven_9-2025/raw_36286_or_ref.hdr'\n",
    "\n",
    "TARGET_BANDS_HDR = 'data/morven_9-2025/raw_36286_or_ref.hdr'\n",
    "\n",
    "ROWS_PER_CHUNK = 512 # Adjust this based on available RAM and image size\n",
    "\n",
    "#(input_dir, output_dir, model, scaler, label_maps, task_names)\n",
    "\n",
    "# Run the main function\n",
    "processor.batch_classify(INPUT_FILE_PATH, OUTPUT_DIRECTORY, model, loaded_scaler, label_maps, TASK_NAMES, ROWS_PER_CHUNK, TARGET_BANDS_HDR)"
   ]
  }
 ],
 "metadata": {
  "kernelspec": {
   "display_name": "Python 3",
   "language": "python",
   "name": "python3"
  },
  "language_info": {
   "codemirror_mode": {
    "name": "ipython",
    "version": 3
   },
   "file_extension": ".py",
   "mimetype": "text/x-python",
   "name": "python",
   "nbconvert_exporter": "python",
   "pygments_lexer": "ipython3",
   "version": "3.12.3"
  }
 },
 "nbformat": 4,
 "nbformat_minor": 5
}
