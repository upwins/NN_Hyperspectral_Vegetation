{
 "cells": [
  {
   "cell_type": "raw",
   "metadata": {
    "vscode": {
     "languageId": "raw"
    }
   },
   "source": [
    "---\n",
    "title: \"Report 2\"\n",
    "engine: jupyter\n",
    "execute:\n",
    "  enabled: false\n",
    "  echo: false  \n",
    "sidebar: false\n",
    "---"
   ]
  },
  {
   "cell_type": "code",
   "execution_count": null,
   "metadata": {},
   "outputs": [],
   "source": [
    "import pandas as pd\n",
    "import numpy as np\n",
    "import matplotlib.pyplot as plt\n",
    "import matplotlib\n",
    "\n",
    "#import requests\n",
    "#import json"
   ]
  },
  {
   "cell_type": "code",
   "execution_count": null,
   "metadata": {},
   "outputs": [],
   "source": [
    "import sys\n",
    "sys.path.append('util/')\n",
    "import importlib\n",
    "\n",
    "import util_scripts as util\n",
    "import nn_scripts as nn\n",
    "\n",
    "import os\n",
    "from dotenv import load_dotenv\n",
    "\n",
    "from pymongo.mongo_client import MongoClient\n",
    "from pymongo.server_api import ServerApi\n",
    "\n",
    "MONGO_DBR_URI = os.getenv('MONGO_DBR_URI')"
   ]
  },
  {
   "cell_type": "code",
   "execution_count": null,
   "metadata": {},
   "outputs": [],
   "source": [
    "import warnings\n",
    "warnings.filterwarnings(\"ignore\")"
   ]
  },
  {
   "cell_type": "code",
   "execution_count": null,
   "metadata": {},
   "outputs": [],
   "source": [
    "reload_data_driver = False\n",
    "\n",
    "if (reload_data_driver):\n",
    "\n",
    "    records = []\n",
    "\n",
    "    # Create a new client and connect to the server\n",
    "    client = MongoClient(MONGO_DBR_URI, server_api=ServerApi('1'))\n",
    "\n",
    "    # Send a ping to confirm a successful connection\n",
    "    try:\n",
    "        client.admin.command('ping')\n",
    "        print(\"Pinged your deployment. You successfully connected to MongoDB!\")\n",
    "    except Exception as e:\n",
    "        print(e)\n",
    "\n",
    "    db = client[\"upwins_db\"]\n",
    "    view_name = \"spectral_library\"\n",
    "    spectral_library = db[view_name]\n",
    "\n",
    "    records = spectral_library.find()\n",
    "\n",
    "    df = pd.DataFrame(records)\n",
    "    df.to_pickle('util/data/data.pkl')\n",
    "\n",
    "else:\n",
    "    df = pd.read_pickle('util/data/data.pkl')"
   ]
  },
  {
   "cell_type": "code",
   "execution_count": null,
   "metadata": {},
   "outputs": [],
   "source": [
    "sc = util.SpectralCollection(df)"
   ]
  },
  {
   "cell_type": "code",
   "execution_count": null,
   "metadata": {},
   "outputs": [],
   "source": [
    "# for each scenario, get selected_indicies from SC function; get prediction class--pass these to a new nn_spectral"
   ]
  }
 ],
 "metadata": {
  "language_info": {
   "name": "python"
  }
 },
 "nbformat": 4,
 "nbformat_minor": 2
}
